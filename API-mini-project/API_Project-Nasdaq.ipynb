{
 "cells": [
  {
   "cell_type": "code",
   "execution_count": 1,
   "id": "8122cd2b",
   "metadata": {},
   "outputs": [],
   "source": [
    "# Importing the relevant modules.\n",
    "import requests\n",
    "import json \n",
    "import operator\n",
    "import numpy as np"
   ]
  },
  {
   "cell_type": "code",
   "execution_count": 2,
   "id": "9da632dc",
   "metadata": {},
   "outputs": [],
   "source": [
    "API_KEY = ***"
   ]
  },
  {
   "cell_type": "code",
   "execution_count": 3,
   "id": "93ffac68",
   "metadata": {},
   "outputs": [],
   "source": [
    "# Caling the Quandl API and pull out a small sample of the data (only one day) to get a glimpse \n",
    "# into the JSON structure that will be returned.\n",
    "\n",
    "url = 'https://data.nasdaq.com/api/v3/datasets/FSE/AFX_X.json?&start_date=2022-01-01&end_date=2022-01-01&api_key=' + API_KEY\n",
    "r = requests.get(url)\n",
    "r_json = r.json()"
   ]
  },
  {
   "cell_type": "code",
   "execution_count": 4,
   "id": "d8e4d8f4",
   "metadata": {},
   "outputs": [
    {
     "name": "stdout",
     "output_type": "stream",
     "text": [
      "{'dataset': {'id': 10095370, 'dataset_code': 'AFX_X', 'database_code': 'FSE', 'name': 'Carl Zeiss Meditec (AFX_X)', 'description': 'Stock Prices for Carl Zeiss Meditec (2020-11-02) from the Frankfurt Stock Exchange.<br><br>Trading System: Xetra<br><br>ISIN: DE0005313704', 'refreshed_at': '2020-12-01T14:48:09.907Z', 'newest_available_date': '2020-12-01', 'oldest_available_date': '2000-06-07', 'column_names': ['Date', 'Open', 'High', 'Low', 'Close', 'Change', 'Traded Volume', 'Turnover', 'Last Price of the Day', 'Daily Traded Units', 'Daily Turnover'], 'frequency': 'daily', 'type': 'Time Series', 'premium': False, 'limit': None, 'transform': None, 'column_index': None, 'start_date': '2022-01-01', 'end_date': '2020-12-01', 'data': [], 'collapse': None, 'order': None, 'database_id': 6129}}\n"
     ]
    }
   ],
   "source": [
    "# Inspect the JSON structure of the object you created, and take note of how nested it is,\n",
    "# as well as the overall structure\n",
    "print(r_json)"
   ]
  },
  {
   "cell_type": "markdown",
   "id": "455c1a5a",
   "metadata": {},
   "source": [
    "**1. Collect data from the Franfurt Stock Exchange, for the ticker AFX_X, for the whole year 2017 (keep in mind that the date format is YYYY-MM-DD).**\n"
   ]
  },
  {
   "cell_type": "code",
   "execution_count": 5,
   "id": "f88fd639",
   "metadata": {},
   "outputs": [],
   "source": [
    "url = \"https://data.nasdaq.com/api/v3/datasets/FSE/AFX_X.json?\"+ \"&start_date=2017-01-01&end_date=2017-12-31&api_key=\" + API_KEY\n",
    "r = requests.get(url)"
   ]
  },
  {
   "cell_type": "code",
   "execution_count": 6,
   "id": "2fbbbd11",
   "metadata": {},
   "outputs": [
    {
     "data": {
      "text/plain": [
       "True"
      ]
     },
     "execution_count": 6,
     "metadata": {},
     "output_type": "execute_result"
    }
   ],
   "source": [
    "# Checking if the data is imported correctly.\n",
    "\n",
    "r.status_code == requests.codes.ok"
   ]
  },
  {
   "cell_type": "markdown",
   "id": "152d4278",
   "metadata": {},
   "source": [
    "**2. Convert the returned JSON object into a Python dictionary.**"
   ]
  },
  {
   "cell_type": "code",
   "execution_count": 7,
   "id": "782e89a6",
   "metadata": {},
   "outputs": [],
   "source": [
    "r_json = r.json()"
   ]
  },
  {
   "cell_type": "code",
   "execution_count": 8,
   "id": "0c0ed067",
   "metadata": {},
   "outputs": [
    {
     "data": {
      "text/plain": [
       "dict"
      ]
     },
     "execution_count": 8,
     "metadata": {},
     "output_type": "execute_result"
    }
   ],
   "source": [
    "# Checking if the type of the object is a dictionary.\n",
    "\n",
    "type(r_json)"
   ]
  },
  {
   "cell_type": "markdown",
   "id": "9a007888",
   "metadata": {},
   "source": [
    "**3. Calculate what the highest and lowest opening prices were for the stock in this period.**"
   ]
  },
  {
   "cell_type": "code",
   "execution_count": 9,
   "id": "0853aa61",
   "metadata": {},
   "outputs": [
    {
     "data": {
      "text/plain": [
       "dict_keys(['dataset'])"
      ]
     },
     "execution_count": 9,
     "metadata": {},
     "output_type": "execute_result"
    }
   ],
   "source": [
    "r_json.keys()"
   ]
  },
  {
   "cell_type": "code",
   "execution_count": 10,
   "id": "ffb87b8f",
   "metadata": {},
   "outputs": [
    {
     "data": {
      "text/plain": [
       "dict_keys(['id', 'dataset_code', 'database_code', 'name', 'description', 'refreshed_at', 'newest_available_date', 'oldest_available_date', 'column_names', 'frequency', 'type', 'premium', 'limit', 'transform', 'column_index', 'start_date', 'end_date', 'data', 'collapse', 'order', 'database_id'])"
      ]
     },
     "execution_count": 10,
     "metadata": {},
     "output_type": "execute_result"
    }
   ],
   "source": [
    "r_json['dataset'].keys()"
   ]
  },
  {
   "cell_type": "code",
   "execution_count": 11,
   "id": "0e539420",
   "metadata": {},
   "outputs": [
    {
     "data": {
      "text/plain": [
       "['Date',\n",
       " 'Open',\n",
       " 'High',\n",
       " 'Low',\n",
       " 'Close',\n",
       " 'Change',\n",
       " 'Traded Volume',\n",
       " 'Turnover',\n",
       " 'Last Price of the Day',\n",
       " 'Daily Traded Units',\n",
       " 'Daily Turnover']"
      ]
     },
     "execution_count": 11,
     "metadata": {},
     "output_type": "execute_result"
    }
   ],
   "source": [
    "r_json['dataset']['column_names']"
   ]
  },
  {
   "cell_type": "code",
   "execution_count": 12,
   "id": "843fc286",
   "metadata": {},
   "outputs": [
    {
     "data": {
      "text/plain": [
       "['2017-12-29',\n",
       " 51.76,\n",
       " 51.94,\n",
       " 51.45,\n",
       " 51.76,\n",
       " None,\n",
       " 34640.0,\n",
       " 1792304.0,\n",
       " None,\n",
       " None,\n",
       " None]"
      ]
     },
     "execution_count": 12,
     "metadata": {},
     "output_type": "execute_result"
    }
   ],
   "source": [
    "# 2017 Year-end stock price data for Carl Zeiss Meditec AG\n",
    "\n",
    "r_json['dataset']['data'][0]"
   ]
  },
  {
   "cell_type": "code",
   "execution_count": 13,
   "id": "28e296b0",
   "metadata": {},
   "outputs": [
    {
     "name": "stdout",
     "output_type": "stream",
     "text": [
      "The highest opening price: $53.11\n",
      "The lowest opening price: $34.0\n"
     ]
    }
   ],
   "source": [
    "#Highest and lowest opening prices for the Carl Zeiss Meditec AG in this period\n",
    "\n",
    "data_json = r_json['dataset']['data']\n",
    "Open = [row[1] for row in data_json if row[1] != None]\n",
    "print(\"The highest opening price: $\" + str(max(Open)))\n",
    "print(\"The lowest opening price: $\" + str(min(Open)))"
   ]
  },
  {
   "cell_type": "markdown",
   "id": "71f9879f",
   "metadata": {},
   "source": [
    "**4. What was the largest change in any one day (based on High and Low price)?**"
   ]
  },
  {
   "cell_type": "code",
   "execution_count": 14,
   "id": "fabd960f",
   "metadata": {},
   "outputs": [
    {
     "name": "stdout",
     "output_type": "stream",
     "text": [
      "The largest change in any one day in 2017: $2.81\n"
     ]
    }
   ],
   "source": [
    "#The largest change in any one day\n",
    "\n",
    "change = [row[2]-row[3] for row in data_json if row[2] != None]\n",
    "print(\"The largest change in any one day in 2017: $\" + str(round(max(change),2)))"
   ]
  },
  {
   "cell_type": "markdown",
   "id": "274ba74c",
   "metadata": {},
   "source": [
    "**5.What was the largest change between any two days (based on Closing Price)?**"
   ]
  },
  {
   "cell_type": "code",
   "execution_count": 15,
   "id": "92621def",
   "metadata": {},
   "outputs": [
    {
     "name": "stdout",
     "output_type": "stream",
     "text": [
      "The largest change between any two days in 2017: $2.56\n"
     ]
    }
   ],
   "source": [
    "#Find the closing price of the stock\n",
    "closing = r_json['dataset']['column_names'].index('Close')\n",
    "#Extract closing price\n",
    "closing_price = [day[closing] for day in r_json['dataset']['data']]\n",
    "#Calculate change between every day and the day before\n",
    "change_two_days = [closing_price[i]-closing_price[i-1] for i, value in enumerate(closing_price) if i > 0]\n",
    "print('The largest change between any two days in 2017: $'  + str(round(max(change_two_days),2)))"
   ]
  },
  {
   "cell_type": "markdown",
   "id": "bd8fa123",
   "metadata": {},
   "source": [
    "**6. What was the average daily trading volume during this year?**"
   ]
  },
  {
   "cell_type": "code",
   "execution_count": 16,
   "id": "3d592675",
   "metadata": {},
   "outputs": [
    {
     "name": "stdout",
     "output_type": "stream",
     "text": [
      "The average daily trading volume in 2017: 89124.34\n"
     ]
    }
   ],
   "source": [
    "#Find the Traded Volume of the stock in a day\n",
    "trading_volume = [row[6] for row in data_json]\n",
    "\n",
    "volume_avg = sum(trading_volume) / len(trading_volume)\n",
    "\n",
    "print (\"The average daily trading volume in 2017: \" + str(round(volume_avg,2)))"
   ]
  },
  {
   "cell_type": "markdown",
   "id": "846ac314",
   "metadata": {},
   "source": [
    "**7. (Optional) What was the median trading volume during this year. (Note: you may need to implement your own function for calculating the median.)**"
   ]
  },
  {
   "cell_type": "code",
   "execution_count": 17,
   "id": "281ecaf4",
   "metadata": {},
   "outputs": [
    {
     "name": "stdout",
     "output_type": "stream",
     "text": [
      "The median trading volume during 2017: 76286.0\n"
     ]
    }
   ],
   "source": [
    "median=int(len(trading_volume)/2)\n",
    "trading_volume=sorted(trading_volume)\n",
    "print('The median trading volume during 2017: ' + str(trading_volume[median]))"
   ]
  }
 ],
 "metadata": {
  "kernelspec": {
   "display_name": "Python 3 (ipykernel)",
   "language": "python",
   "name": "python3"
  },
  "language_info": {
   "codemirror_mode": {
    "name": "ipython",
    "version": 3
   },
   "file_extension": ".py",
   "mimetype": "text/x-python",
   "name": "python",
   "nbconvert_exporter": "python",
   "pygments_lexer": "ipython3",
   "version": "3.9.12"
  }
 },
 "nbformat": 4,
 "nbformat_minor": 5
}
